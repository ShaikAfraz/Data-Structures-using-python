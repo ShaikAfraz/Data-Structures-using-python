{
 "cells": [
  {
   "cell_type": "code",
   "execution_count": 6,
   "id": "783f0cf3-fd54-46b3-8014-4f9549010fbe",
   "metadata": {},
   "outputs": [
    {
     "name": "stdin",
     "output_type": "stream",
     "text": [
      "Enter number of elemnts:  5\n",
      "Enter element:  1\n",
      "Enter element:  2\n",
      "Enter element:  3\n",
      "Enter element:  4\n",
      "Enter element:  5\n"
     ]
    },
    {
     "name": "stdout",
     "output_type": "stream",
     "text": [
      "The sorted elements are: \n",
      "1 2 3 4 5 "
     ]
    }
   ],
   "source": [
    "def bubble_sort(list):\n",
    "    size=len(list)\n",
    "    for i in range(size-1):\n",
    "        for j in range(size-1):\n",
    "            if list[j]>list[j+1]:\n",
    "                temp=list[j]\n",
    "                list[j]=list[j+1]\n",
    "                list[j+1]=temp\n",
    "\n",
    "n=int(input(\"Enter number of elemnts: \"))\n",
    "lst=[]\n",
    "for i in range(n):\n",
    "    num = int(input(\"Enter element: \"))\n",
    "    lst.append(num)\n",
    "\n",
    "bubble_sort(lst)\n",
    "print(\"The sorted elements are: \")\n",
    "for i in range(n):\n",
    "    print(lst[i], end=\" \")"
   ]
  },
  {
   "cell_type": "code",
   "execution_count": null,
   "id": "7400fee6-4ac5-409c-839e-ad74ed092323",
   "metadata": {},
   "outputs": [],
   "source": []
  }
 ],
 "metadata": {
  "kernelspec": {
   "display_name": "Python 3 (ipykernel)",
   "language": "python",
   "name": "python3"
  },
  "language_info": {
   "codemirror_mode": {
    "name": "ipython",
    "version": 3
   },
   "file_extension": ".py",
   "mimetype": "text/x-python",
   "name": "python",
   "nbconvert_exporter": "python",
   "pygments_lexer": "ipython3",
   "version": "3.12.4"
  }
 },
 "nbformat": 4,
 "nbformat_minor": 5
}
